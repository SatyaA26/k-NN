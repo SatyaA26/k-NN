{
 "cells": [
  {
   "cell_type": "markdown",
   "id": "7e2bee5e",
   "metadata": {},
   "source": [
    "# KNN Algorithm using IRIS Dataset for K=1, K=3, GENERAL K"
   ]
  },
  {
   "cell_type": "markdown",
   "id": "fc72ac2e",
   "metadata": {},
   "source": [
    "Comment: Important libraries for algorithm and load iris dataset"
   ]
  },
  {
   "cell_type": "code",
   "execution_count": 57,
   "id": "4c208fe1",
   "metadata": {},
   "outputs": [],
   "source": [
    "from sklearn.datasets import load_iris\n",
    "import numpy as np\n",
    "import pandas as pd\n",
    "iris = load_iris()"
   ]
  },
  {
   "cell_type": "markdown",
   "id": "98ba228b",
   "metadata": {},
   "source": [
    "Comment: To split the iris dataset for training and testing"
   ]
  },
  {
   "cell_type": "code",
   "execution_count": 58,
   "id": "d2015416",
   "metadata": {},
   "outputs": [],
   "source": [
    "from sklearn.model_selection import train_test_split"
   ]
  },
  {
   "cell_type": "code",
   "execution_count": 59,
   "id": "7f7897c5",
   "metadata": {},
   "outputs": [],
   "source": [
    "X_train, X_test, y_train, y_test= train_test_split(iris['data'], iris['target'], random_state=2610)"
   ]
  },
  {
   "cell_type": "markdown",
   "id": "f53b209a",
   "metadata": {},
   "source": [
    "Comment: Calculating and storing calculated Euclidean distance"
   ]
  },
  {
   "cell_type": "code",
   "execution_count": 60,
   "id": "4db789c6",
   "metadata": {},
   "outputs": [],
   "source": [
    "#storing list distances in list\n",
    "def equi_dist(point1,point2):\n",
    "    dist_store=[]\n",
    "    for i in point2:\n",
    "        lst_point=[]\n",
    "        for j in point1:\n",
    "            dist=0.0\n",
    "            #e_dist=0.0\n",
    "            for l in range(len(j)):\n",
    "                dist+=(i[l]-j[l])**2\n",
    "            e_dist=dist**0.5\n",
    "            lst_point.append(e_dist)\n",
    "        dist_store.append(lst_point)\n",
    "    return dist_store   "
   ]
  },
  {
   "cell_type": "code",
   "execution_count": 61,
   "id": "d898a567",
   "metadata": {},
   "outputs": [],
   "source": [
    "Euclidean_dist=[]\n",
    "Euclidean_dist=equi_dist(X_train,X_test)"
   ]
  },
  {
   "cell_type": "markdown",
   "id": "bd5a55a6",
   "metadata": {},
   "source": [
    "Comment: Converting y_train array in list"
   ]
  },
  {
   "cell_type": "code",
   "execution_count": 62,
   "id": "bc2eaf44",
   "metadata": {},
   "outputs": [],
   "source": [
    "ytrain_lst=[]\n",
    "for i in range(len(y_train)):\n",
    "    ytrain_lst.append(y_train[i])"
   ]
  },
  {
   "cell_type": "markdown",
   "id": "6a5f286d",
   "metadata": {},
   "source": [
    "Comment: Combining Euclidean distances calculated and labels in y_train with their corresponding index"
   ]
  },
  {
   "cell_type": "code",
   "execution_count": 63,
   "id": "d519fdfa",
   "metadata": {},
   "outputs": [
    {
     "data": {
      "text/plain": [
       "38"
      ]
     },
     "execution_count": 63,
     "metadata": {},
     "output_type": "execute_result"
    }
   ],
   "source": [
    "main_lbl_dist=[]\n",
    "for j in range(len(y_test)):\n",
    "    all_lbl_dist=[]\n",
    "    for i in range(len(ytrain_lst)):\n",
    "        lbl_dist=[]\n",
    "        lbl_dist.append(ytrain_lst[i])\n",
    "        lbl_dist.append(Euclidean_dist[j][i])\n",
    "        all_lbl_dist.append(lbl_dist)\n",
    "    main_lbl_dist.append(all_lbl_dist)\n",
    "len(main_lbl_dist)"
   ]
  },
  {
   "cell_type": "markdown",
   "id": "bed3e39e",
   "metadata": {},
   "source": [
    "Comment: To sort the combined list of labels and Euclidean distances using BUBBLE SORT algorithm"
   ]
  },
  {
   "cell_type": "code",
   "execution_count": 64,
   "id": "8a9da33e",
   "metadata": {},
   "outputs": [],
   "source": [
    "temp=0\n",
    "main_srt=[]\n",
    "def sort1(label_distance):\n",
    "    for i in range(len(label_distance)):\n",
    "        for k in range(len(label_distance[i])):\n",
    "            srt=[]\n",
    "            for j in range(len(label_distance[i])-k-1):\n",
    "                if label_distance[i][j][1] > label_distance[i][j+1][1]:\n",
    "                    temp = label_distance[i][j]\n",
    "                    label_distance[i][j] = label_distance[i][j+1]\n",
    "                    label_distance[i][j+1] = temp\n",
    "        srt.append(label_distance[i])\n",
    "        main_srt.append(srt)\n",
    "    return main_srt"
   ]
  },
  {
   "cell_type": "code",
   "execution_count": 65,
   "id": "81cbc92b",
   "metadata": {},
   "outputs": [],
   "source": [
    "sorted_lbl_dist=[]\n",
    "sorted_lbl_dist=sort1(main_lbl_dist)"
   ]
  },
  {
   "cell_type": "markdown",
   "id": "c52f949c",
   "metadata": {},
   "source": [
    "# Comment: For k=1 nearest distance labels (iris)"
   ]
  },
  {
   "cell_type": "code",
   "execution_count": 66,
   "id": "4fa4fd5d",
   "metadata": {},
   "outputs": [
    {
     "name": "stdout",
     "output_type": "stream",
     "text": [
      "[[0], [1], [1], [0], [2], [0], [2], [0], [1], [2], [1], [0], [2], [0], [0], [2], [2], [1], [2], [2], [2], [1], [2], [0], [1], [2], [2], [2], [0], [2], [0], [2], [1], [1], [0], [1], [2], [2]]\n"
     ]
    }
   ],
   "source": [
    "sorted_label_list=[]\n",
    "k=1   #value of k\n",
    "for i in range(len(sorted_lbl_dist)):\n",
    "    srt_k=[]\n",
    "    for j in range(k):\n",
    "        srt_k.append(sorted_lbl_dist[i][0][j][0])\n",
    "    sorted_label_list.append(srt_k)\n",
    "print(sorted_label_list)"
   ]
  },
  {
   "cell_type": "markdown",
   "id": "18692a7b",
   "metadata": {},
   "source": [
    "Comment: Converting y_test array in list for list functions"
   ]
  },
  {
   "cell_type": "code",
   "execution_count": 67,
   "id": "d9848d70",
   "metadata": {},
   "outputs": [
    {
     "name": "stdout",
     "output_type": "stream",
     "text": [
      "[0, 1, 1, 0, 2, 0, 2, 0, 1, 2, 1, 0, 2, 0, 0, 2, 2, 1, 2, 2, 2, 1, 1, 0, 1, 2, 2, 2, 0, 2, 0, 2, 1, 1, 0, 1, 2, 2]\n"
     ]
    }
   ],
   "source": [
    "ytest_list=[]\n",
    "for i in range(len(y_test)):\n",
    "    ytest_list.append(y_test[i])\n",
    "print(ytest_list)"
   ]
  },
  {
   "cell_type": "markdown",
   "id": "d8f241fe",
   "metadata": {},
   "source": [
    "Comment: Finding out unique labels in dataset"
   ]
  },
  {
   "cell_type": "code",
   "execution_count": 68,
   "id": "3bc21de7",
   "metadata": {},
   "outputs": [
    {
     "name": "stdout",
     "output_type": "stream",
     "text": [
      "[0, 1, 2]\n"
     ]
    },
    {
     "data": {
      "text/plain": [
       "3"
      ]
     },
     "execution_count": 68,
     "metadata": {},
     "output_type": "execute_result"
    }
   ],
   "source": [
    "unique_label=[]\n",
    "for i in ytest_list:\n",
    "    if i not in unique_label:\n",
    "        unique_label.append(i)\n",
    "print(unique_label)\n",
    "len(unique_label)"
   ]
  },
  {
   "cell_type": "markdown",
   "id": "12a5e539",
   "metadata": {},
   "source": [
    "Comment: Pridicting labels for perticular test sample"
   ]
  },
  {
   "cell_type": "code",
   "execution_count": 69,
   "id": "cd7a0c1d",
   "metadata": {},
   "outputs": [
    {
     "name": "stdout",
     "output_type": "stream",
     "text": [
      "[0, 1, 1, 0, 2, 0, 2, 0, 1, 2, 1, 0, 2, 0, 0, 2, 2, 1, 2, 2, 2, 1, 2, 0, 1, 2, 2, 2, 0, 2, 0, 2, 1, 1, 0, 1, 2, 2]\n"
     ]
    }
   ],
   "source": [
    "pridcted_labels=[]\n",
    "for m in range(len(sorted_label_list)):\n",
    "    cnt33=0\n",
    "    unique_value=0\n",
    "    cnt22=0\n",
    "    for j in range(len(unique_label)):\n",
    "        cnt=0\n",
    "        for i in range(len(sorted_label_list[0])):\n",
    "            if unique_label[j]==sorted_label_list[m][i]:\n",
    "                cnt+=1\n",
    "        if cnt>cnt22:\n",
    "            cnt22=cnt\n",
    "            uniqu_val=unique_label[j]\n",
    "    if cnt33<cnt22:\n",
    "        cnt33=cnt22\n",
    "        unique_value=uniqu_val\n",
    "    pridcted_labels.append(unique_value)\n",
    "print(pridcted_labels)  "
   ]
  },
  {
   "cell_type": "markdown",
   "id": "d570ad3e",
   "metadata": {},
   "source": [
    "Comment: Comparing pridicted labels and actual labels and counting correctly pridicted labels using y_test labels"
   ]
  },
  {
   "cell_type": "code",
   "execution_count": 70,
   "id": "3ec9042c",
   "metadata": {},
   "outputs": [
    {
     "name": "stdout",
     "output_type": "stream",
     "text": [
      "37\n"
     ]
    }
   ],
   "source": [
    "count=0\n",
    "for i in range(len(ytest_list)):\n",
    "    if ytest_list[i]==pridcted_labels[i]:\n",
    "        count+=1\n",
    "print(count)"
   ]
  },
  {
   "cell_type": "markdown",
   "id": "7dc1f922",
   "metadata": {},
   "source": [
    "Comment: Finding the accuracy for k=1"
   ]
  },
  {
   "cell_type": "code",
   "execution_count": 71,
   "id": "cf2418c7",
   "metadata": {},
   "outputs": [
    {
     "name": "stdout",
     "output_type": "stream",
     "text": [
      "97.36842105263158\n"
     ]
    }
   ],
   "source": [
    "accuracy_k1=(count/len(ytest_list))*100\n",
    "print(accuracy_k1)"
   ]
  },
  {
   "cell_type": "markdown",
   "id": "0df7dffb",
   "metadata": {},
   "source": [
    "Comment: Finding the error rate for k=1"
   ]
  },
  {
   "cell_type": "code",
   "execution_count": 72,
   "id": "a1859a09",
   "metadata": {},
   "outputs": [
    {
     "name": "stdout",
     "output_type": "stream",
     "text": [
      "2.631578947368425\n"
     ]
    }
   ],
   "source": [
    "error_k1=100-accuracy_k1\n",
    "print(error_k1)"
   ]
  },
  {
   "cell_type": "markdown",
   "id": "0515953c",
   "metadata": {},
   "source": [
    "# Comment: For k=3 nearest distance labels (iris)"
   ]
  },
  {
   "cell_type": "code",
   "execution_count": 73,
   "id": "4ac09aeb",
   "metadata": {},
   "outputs": [
    {
     "name": "stdout",
     "output_type": "stream",
     "text": [
      "[[0, 0, 0], [1, 1, 1], [1, 1, 1], [0, 0, 0], [2, 2, 2], [0, 0, 0], [2, 2, 2], [0, 0, 0], [1, 1, 1], [2, 2, 2], [1, 1, 1], [0, 0, 0], [2, 2, 2], [0, 0, 0], [0, 0, 0], [2, 2, 2], [2, 2, 2], [1, 1, 1], [2, 2, 2], [2, 2, 2], [2, 2, 2], [1, 1, 1], [2, 2, 2], [0, 0, 0], [1, 1, 1], [2, 2, 2], [2, 2, 1], [2, 2, 1], [0, 0, 0], [2, 2, 2], [0, 0, 0], [2, 2, 2], [1, 1, 1], [1, 1, 1], [0, 0, 0], [1, 1, 1], [2, 2, 2], [2, 2, 2]]\n"
     ]
    }
   ],
   "source": [
    "sorted_label_list=[]\n",
    "k=3   #value of k\n",
    "for i in range(len(sorted_lbl_dist)):\n",
    "    srt_k=[]\n",
    "    for j in range(k):\n",
    "        srt_k.append(sorted_lbl_dist[i][0][j][0])\n",
    "    sorted_label_list.append(srt_k)\n",
    "print(sorted_label_list)"
   ]
  },
  {
   "cell_type": "markdown",
   "id": "ea9f594a",
   "metadata": {},
   "source": [
    "Comment: Finding the accuracy for k=3"
   ]
  },
  {
   "cell_type": "code",
   "execution_count": 75,
   "id": "e0ea7b7e",
   "metadata": {},
   "outputs": [
    {
     "name": "stdout",
     "output_type": "stream",
     "text": [
      "97.36842105263158\n"
     ]
    }
   ],
   "source": [
    "accuracy_k3=(count/len(ytest_list))*100\n",
    "print(accuracy_k3)"
   ]
  },
  {
   "cell_type": "markdown",
   "id": "092fddcb",
   "metadata": {},
   "source": [
    "Comment: Finding the error rate for k=3"
   ]
  },
  {
   "cell_type": "code",
   "execution_count": 76,
   "id": "9509ab80",
   "metadata": {},
   "outputs": [
    {
     "name": "stdout",
     "output_type": "stream",
     "text": [
      "2.631578947368425\n"
     ]
    }
   ],
   "source": [
    "error_k3=100-accuracy_k3\n",
    "print(error_k3)"
   ]
  },
  {
   "cell_type": "markdown",
   "id": "79b4e5c5",
   "metadata": {},
   "source": [
    "# Comment: For k=5 nearest distance labels (iris) GENERAL K\n"
   ]
  },
  {
   "cell_type": "code",
   "execution_count": 22,
   "id": "48a29a7e",
   "metadata": {},
   "outputs": [
    {
     "name": "stdout",
     "output_type": "stream",
     "text": [
      "[[0, 0, 0, 0, 0], [1, 1, 1, 1, 1], [1, 1, 1, 1, 1], [0, 0, 0, 0, 0], [2, 2, 2, 2, 2], [0, 0, 0, 0, 0], [2, 2, 2, 2, 2], [0, 0, 0, 0, 0], [1, 1, 1, 1, 1], [2, 2, 2, 2, 2], [1, 1, 1, 1, 1], [0, 0, 0, 0, 0], [2, 2, 2, 2, 2], [0, 0, 0, 0, 0], [0, 0, 0, 0, 0], [2, 2, 2, 2, 2], [2, 2, 2, 2, 2], [1, 1, 1, 1, 1], [2, 2, 2, 2, 2], [2, 2, 2, 2, 2], [2, 2, 2, 2, 2], [1, 1, 1, 1, 1], [2, 2, 2, 1, 1], [0, 0, 0, 0, 0], [1, 1, 1, 1, 1], [2, 2, 2, 2, 2], [2, 2, 1, 1, 2], [2, 2, 1, 2, 1], [0, 0, 0, 0, 0], [2, 2, 2, 1, 2], [0, 0, 0, 0, 0], [2, 2, 2, 2, 2], [1, 1, 1, 1, 1], [1, 1, 1, 1, 1], [0, 0, 0, 0, 0], [1, 1, 1, 1, 1], [2, 2, 2, 2, 2], [2, 2, 2, 2, 2]]\n"
     ]
    }
   ],
   "source": [
    "sorted_label_list=[]\n",
    "k=5   #value of k\n",
    "for i in range(len(sorted_lbl_dist)):\n",
    "    srt_k=[]\n",
    "    for j in range(k):\n",
    "        srt_k.append(sorted_lbl_dist[i][0][j][0])\n",
    "    sorted_label_list.append(srt_k)\n",
    "print(sorted_label_list)"
   ]
  },
  {
   "cell_type": "markdown",
   "id": "c53bfcdd",
   "metadata": {},
   "source": [
    "Comment: Finding the accuracy for k=5"
   ]
  },
  {
   "cell_type": "code",
   "execution_count": 25,
   "id": "9d2dca6f",
   "metadata": {},
   "outputs": [
    {
     "name": "stdout",
     "output_type": "stream",
     "text": [
      "97.36842105263158\n"
     ]
    }
   ],
   "source": [
    "accuracy_k5=(count/len(ytest_list))*100\n",
    "print(accuracy_k5)"
   ]
  },
  {
   "cell_type": "markdown",
   "id": "1ddd94c0",
   "metadata": {},
   "source": [
    "Comment: Finding the error rate for k=5"
   ]
  },
  {
   "cell_type": "code",
   "execution_count": 26,
   "id": "35ff4c46",
   "metadata": {},
   "outputs": [
    {
     "name": "stdout",
     "output_type": "stream",
     "text": [
      "2.631578947368425\n"
     ]
    }
   ],
   "source": [
    "error_k5=100-accuracy_k5\n",
    "print(error_k5)"
   ]
  },
  {
   "cell_type": "markdown",
   "id": "37619579",
   "metadata": {},
   "source": [
    "# KNN Algorithm using ionosphere Dataset for K=1, K=3, GENERAL K"
   ]
  },
  {
   "cell_type": "markdown",
   "id": "60f34916",
   "metadata": {},
   "source": [
    "Comment: Important libraries for algorithm and load iris dataset"
   ]
  },
  {
   "cell_type": "code",
   "execution_count": 27,
   "id": "54838b9d",
   "metadata": {},
   "outputs": [],
   "source": [
    "import numpy as np\n",
    "import pandas as pd\n",
    "from sklearn.model_selection import train_test_split"
   ]
  },
  {
   "cell_type": "markdown",
   "id": "797933a4",
   "metadata": {},
   "source": [
    "Comment: Reading data from ionosphere dataset"
   ]
  },
  {
   "cell_type": "code",
   "execution_count": 28,
   "id": "88724ae8",
   "metadata": {},
   "outputs": [
    {
     "data": {
      "text/plain": [
       "(350, 35)"
      ]
     },
     "execution_count": 28,
     "metadata": {},
     "output_type": "execute_result"
    }
   ],
   "source": [
    "ionosphere=pd.read_csv('ionosphere.txt')\n",
    "ionosphere.shape"
   ]
  },
  {
   "cell_type": "markdown",
   "id": "0ba495a1",
   "metadata": {},
   "source": [
    "Comment: Giving name to columns in dataset"
   ]
  },
  {
   "cell_type": "code",
   "execution_count": 29,
   "id": "4dc2aae0",
   "metadata": {},
   "outputs": [],
   "source": [
    "ionosphere.columns=['1','2','3','4','5','6','7','8','9','10','11','12','13','14','15','16','17','18','19','20','21',\n",
    "                    '22','23','24','25','26','27','28','29','30','31','32','33','34','target']"
   ]
  },
  {
   "cell_type": "markdown",
   "id": "5d1a7405",
   "metadata": {},
   "source": [
    "Comment: Dataset after giving names to columns"
   ]
  },
  {
   "cell_type": "code",
   "execution_count": 30,
   "id": "bfeb01cc",
   "metadata": {},
   "outputs": [
    {
     "data": {
      "text/html": [
       "<div>\n",
       "<style scoped>\n",
       "    .dataframe tbody tr th:only-of-type {\n",
       "        vertical-align: middle;\n",
       "    }\n",
       "\n",
       "    .dataframe tbody tr th {\n",
       "        vertical-align: top;\n",
       "    }\n",
       "\n",
       "    .dataframe thead th {\n",
       "        text-align: right;\n",
       "    }\n",
       "</style>\n",
       "<table border=\"1\" class=\"dataframe\">\n",
       "  <thead>\n",
       "    <tr style=\"text-align: right;\">\n",
       "      <th></th>\n",
       "      <th>1</th>\n",
       "      <th>2</th>\n",
       "      <th>3</th>\n",
       "      <th>4</th>\n",
       "      <th>5</th>\n",
       "      <th>6</th>\n",
       "      <th>7</th>\n",
       "      <th>8</th>\n",
       "      <th>9</th>\n",
       "      <th>10</th>\n",
       "      <th>...</th>\n",
       "      <th>26</th>\n",
       "      <th>27</th>\n",
       "      <th>28</th>\n",
       "      <th>29</th>\n",
       "      <th>30</th>\n",
       "      <th>31</th>\n",
       "      <th>32</th>\n",
       "      <th>33</th>\n",
       "      <th>34</th>\n",
       "      <th>target</th>\n",
       "    </tr>\n",
       "  </thead>\n",
       "  <tbody>\n",
       "    <tr>\n",
       "      <th>0</th>\n",
       "      <td>1</td>\n",
       "      <td>0</td>\n",
       "      <td>1.00000</td>\n",
       "      <td>-0.18829</td>\n",
       "      <td>0.93035</td>\n",
       "      <td>-0.36156</td>\n",
       "      <td>-0.10868</td>\n",
       "      <td>-0.93597</td>\n",
       "      <td>1.00000</td>\n",
       "      <td>-0.04549</td>\n",
       "      <td>...</td>\n",
       "      <td>-0.26569</td>\n",
       "      <td>-0.20468</td>\n",
       "      <td>-0.18401</td>\n",
       "      <td>-0.19040</td>\n",
       "      <td>-0.11593</td>\n",
       "      <td>-0.16626</td>\n",
       "      <td>-0.06288</td>\n",
       "      <td>-0.13738</td>\n",
       "      <td>-0.02447</td>\n",
       "      <td>-1</td>\n",
       "    </tr>\n",
       "    <tr>\n",
       "      <th>1</th>\n",
       "      <td>1</td>\n",
       "      <td>0</td>\n",
       "      <td>1.00000</td>\n",
       "      <td>-0.03365</td>\n",
       "      <td>1.00000</td>\n",
       "      <td>0.00485</td>\n",
       "      <td>1.00000</td>\n",
       "      <td>-0.12062</td>\n",
       "      <td>0.88965</td>\n",
       "      <td>0.01198</td>\n",
       "      <td>...</td>\n",
       "      <td>-0.40220</td>\n",
       "      <td>0.58984</td>\n",
       "      <td>-0.22145</td>\n",
       "      <td>0.43100</td>\n",
       "      <td>-0.17365</td>\n",
       "      <td>0.60436</td>\n",
       "      <td>-0.24180</td>\n",
       "      <td>0.56045</td>\n",
       "      <td>-0.38238</td>\n",
       "      <td>1</td>\n",
       "    </tr>\n",
       "    <tr>\n",
       "      <th>2</th>\n",
       "      <td>1</td>\n",
       "      <td>0</td>\n",
       "      <td>1.00000</td>\n",
       "      <td>-0.45161</td>\n",
       "      <td>1.00000</td>\n",
       "      <td>1.00000</td>\n",
       "      <td>0.71216</td>\n",
       "      <td>-1.00000</td>\n",
       "      <td>0.00000</td>\n",
       "      <td>0.00000</td>\n",
       "      <td>...</td>\n",
       "      <td>0.90695</td>\n",
       "      <td>0.51613</td>\n",
       "      <td>1.00000</td>\n",
       "      <td>1.00000</td>\n",
       "      <td>-0.20099</td>\n",
       "      <td>0.25682</td>\n",
       "      <td>1.00000</td>\n",
       "      <td>-0.32382</td>\n",
       "      <td>1.00000</td>\n",
       "      <td>-1</td>\n",
       "    </tr>\n",
       "    <tr>\n",
       "      <th>3</th>\n",
       "      <td>1</td>\n",
       "      <td>0</td>\n",
       "      <td>1.00000</td>\n",
       "      <td>-0.02401</td>\n",
       "      <td>0.94140</td>\n",
       "      <td>0.06531</td>\n",
       "      <td>0.92106</td>\n",
       "      <td>-0.23255</td>\n",
       "      <td>0.77152</td>\n",
       "      <td>-0.16399</td>\n",
       "      <td>...</td>\n",
       "      <td>-0.65158</td>\n",
       "      <td>0.13290</td>\n",
       "      <td>-0.53206</td>\n",
       "      <td>0.02431</td>\n",
       "      <td>-0.62197</td>\n",
       "      <td>-0.05707</td>\n",
       "      <td>-0.59573</td>\n",
       "      <td>-0.04608</td>\n",
       "      <td>-0.65697</td>\n",
       "      <td>1</td>\n",
       "    </tr>\n",
       "    <tr>\n",
       "      <th>4</th>\n",
       "      <td>1</td>\n",
       "      <td>0</td>\n",
       "      <td>0.02337</td>\n",
       "      <td>-0.00592</td>\n",
       "      <td>-0.09924</td>\n",
       "      <td>-0.11949</td>\n",
       "      <td>-0.00763</td>\n",
       "      <td>-0.11824</td>\n",
       "      <td>0.14706</td>\n",
       "      <td>0.06637</td>\n",
       "      <td>...</td>\n",
       "      <td>-0.01535</td>\n",
       "      <td>-0.03240</td>\n",
       "      <td>0.09223</td>\n",
       "      <td>-0.07859</td>\n",
       "      <td>0.00732</td>\n",
       "      <td>0.00000</td>\n",
       "      <td>0.00000</td>\n",
       "      <td>-0.00039</td>\n",
       "      <td>0.12011</td>\n",
       "      <td>-1</td>\n",
       "    </tr>\n",
       "    <tr>\n",
       "      <th>5</th>\n",
       "      <td>1</td>\n",
       "      <td>0</td>\n",
       "      <td>0.97588</td>\n",
       "      <td>-0.10602</td>\n",
       "      <td>0.94601</td>\n",
       "      <td>-0.20800</td>\n",
       "      <td>0.92806</td>\n",
       "      <td>-0.28350</td>\n",
       "      <td>0.85996</td>\n",
       "      <td>-0.27342</td>\n",
       "      <td>...</td>\n",
       "      <td>-0.81634</td>\n",
       "      <td>0.13659</td>\n",
       "      <td>-0.82510</td>\n",
       "      <td>0.04606</td>\n",
       "      <td>-0.82395</td>\n",
       "      <td>-0.04262</td>\n",
       "      <td>-0.81318</td>\n",
       "      <td>-0.13832</td>\n",
       "      <td>-0.80975</td>\n",
       "      <td>1</td>\n",
       "    </tr>\n",
       "  </tbody>\n",
       "</table>\n",
       "<p>6 rows × 35 columns</p>\n",
       "</div>"
      ],
      "text/plain": [
       "   1  2        3        4        5        6        7        8        9  \\\n",
       "0  1  0  1.00000 -0.18829  0.93035 -0.36156 -0.10868 -0.93597  1.00000   \n",
       "1  1  0  1.00000 -0.03365  1.00000  0.00485  1.00000 -0.12062  0.88965   \n",
       "2  1  0  1.00000 -0.45161  1.00000  1.00000  0.71216 -1.00000  0.00000   \n",
       "3  1  0  1.00000 -0.02401  0.94140  0.06531  0.92106 -0.23255  0.77152   \n",
       "4  1  0  0.02337 -0.00592 -0.09924 -0.11949 -0.00763 -0.11824  0.14706   \n",
       "5  1  0  0.97588 -0.10602  0.94601 -0.20800  0.92806 -0.28350  0.85996   \n",
       "\n",
       "        10  ...       26       27       28       29       30       31  \\\n",
       "0 -0.04549  ... -0.26569 -0.20468 -0.18401 -0.19040 -0.11593 -0.16626   \n",
       "1  0.01198  ... -0.40220  0.58984 -0.22145  0.43100 -0.17365  0.60436   \n",
       "2  0.00000  ...  0.90695  0.51613  1.00000  1.00000 -0.20099  0.25682   \n",
       "3 -0.16399  ... -0.65158  0.13290 -0.53206  0.02431 -0.62197 -0.05707   \n",
       "4  0.06637  ... -0.01535 -0.03240  0.09223 -0.07859  0.00732  0.00000   \n",
       "5 -0.27342  ... -0.81634  0.13659 -0.82510  0.04606 -0.82395 -0.04262   \n",
       "\n",
       "        32       33       34  target  \n",
       "0 -0.06288 -0.13738 -0.02447      -1  \n",
       "1 -0.24180  0.56045 -0.38238       1  \n",
       "2  1.00000 -0.32382  1.00000      -1  \n",
       "3 -0.59573 -0.04608 -0.65697       1  \n",
       "4  0.00000 -0.00039  0.12011      -1  \n",
       "5 -0.81318 -0.13832 -0.80975       1  \n",
       "\n",
       "[6 rows x 35 columns]"
      ]
     },
     "execution_count": 30,
     "metadata": {},
     "output_type": "execute_result"
    }
   ],
   "source": [
    "ionosphere.head(6)"
   ]
  },
  {
   "cell_type": "markdown",
   "id": "6248360f",
   "metadata": {},
   "source": [
    "Comment: Assigning First 34 columns as data for computation and last column as target labels"
   ]
  },
  {
   "cell_type": "code",
   "execution_count": 31,
   "id": "daa5a7d4",
   "metadata": {},
   "outputs": [],
   "source": [
    "data=ionosphere.values[:,:-1]\n",
    "target=ionosphere.values[:,-1]"
   ]
  },
  {
   "cell_type": "markdown",
   "id": "e670e651",
   "metadata": {},
   "source": [
    "Comment: Splitting ionosphere dataset for training and testing"
   ]
  },
  {
   "cell_type": "code",
   "execution_count": 32,
   "id": "e9132d05",
   "metadata": {},
   "outputs": [],
   "source": [
    "X_train, X_test, y_train, y_test= train_test_split(data, target, random_state=2610)"
   ]
  },
  {
   "cell_type": "markdown",
   "id": "d9ddf759",
   "metadata": {},
   "source": [
    "Comment: Calculating and storing calculated Euclidean distance"
   ]
  },
  {
   "cell_type": "code",
   "execution_count": 33,
   "id": "41e0afb5",
   "metadata": {},
   "outputs": [],
   "source": [
    "def equi_dist(point1,point2):\n",
    "    dist_store=[]\n",
    "    for i in point2:\n",
    "        lst_point=[]\n",
    "        for j in point1:\n",
    "            dist=0.0\n",
    "            #e_dist=0.0\n",
    "            for l in range(len(j)):\n",
    "                dist+=(i[l]-j[l])**2\n",
    "            e_dist=dist**0.5\n",
    "            lst_point.append(e_dist)\n",
    "        dist_store.append(lst_point)\n",
    "    return dist_store   "
   ]
  },
  {
   "cell_type": "code",
   "execution_count": 34,
   "id": "356d5026",
   "metadata": {},
   "outputs": [],
   "source": [
    "Euclidean_dist=[]\n",
    "Euclidean_dist=equi_dist(X_train,X_test)"
   ]
  },
  {
   "cell_type": "markdown",
   "id": "52a5aa60",
   "metadata": {},
   "source": [
    "Comment: Converting y_train array in list"
   ]
  },
  {
   "cell_type": "code",
   "execution_count": 35,
   "id": "6a91fc5d",
   "metadata": {},
   "outputs": [],
   "source": [
    "ytrain_lst=[]\n",
    "for i in range(len(y_train)):\n",
    "    ytrain_lst.append(y_train[i])"
   ]
  },
  {
   "cell_type": "markdown",
   "id": "eb50e8f5",
   "metadata": {},
   "source": [
    "Comment: Combining Euclidean distances calculated and labels in y_train with their corresponding index"
   ]
  },
  {
   "cell_type": "code",
   "execution_count": 36,
   "id": "b5a02c64",
   "metadata": {},
   "outputs": [
    {
     "data": {
      "text/plain": [
       "88"
      ]
     },
     "execution_count": 36,
     "metadata": {},
     "output_type": "execute_result"
    }
   ],
   "source": [
    "main_lbl_dist=[]\n",
    "for j in range(len(y_test)):\n",
    "    all_lbl_dist=[]\n",
    "    for i in range(len(ytrain_lst)):\n",
    "        lbl_dist=[]\n",
    "        lbl_dist.append(ytrain_lst[i])\n",
    "        lbl_dist.append(Euclidean_dist[j][i])\n",
    "        all_lbl_dist.append(lbl_dist)\n",
    "    main_lbl_dist.append(all_lbl_dist)\n",
    "len(main_lbl_dist)\n",
    "#len(main)"
   ]
  },
  {
   "cell_type": "markdown",
   "id": "10efbdd6",
   "metadata": {},
   "source": [
    "Comment: To sort the combined list of labels and Euclidean distances using BUBBLE SORT algorithm"
   ]
  },
  {
   "cell_type": "code",
   "execution_count": 37,
   "id": "e32566a9",
   "metadata": {},
   "outputs": [],
   "source": [
    "temp=0\n",
    "main_srt=[]\n",
    "def sort1(label_distance):\n",
    "    for i in range(len(label_distance)):\n",
    "        for k in range(len(label_distance[i])):\n",
    "            srt=[]\n",
    "            for j in range(len(label_distance[i])-k-1):\n",
    "                if label_distance[i][j][1] > label_distance[i][j+1][1]:\n",
    "                    temp = label_distance[i][j]\n",
    "                    label_distance[i][j] = label_distance[i][j+1]\n",
    "                    label_distance[i][j+1] = temp\n",
    "        srt.append(label_distance[i])\n",
    "        main_srt.append(srt)\n",
    "    return main_srt"
   ]
  },
  {
   "cell_type": "code",
   "execution_count": 38,
   "id": "11437569",
   "metadata": {},
   "outputs": [],
   "source": [
    "sorted_lbl_dist=[]\n",
    "sorted_lbl_dist=sort1(main_lbl_dist)"
   ]
  },
  {
   "cell_type": "markdown",
   "id": "29655ce8",
   "metadata": {},
   "source": [
    "# Comment: For k=1 nearest distance labels (ionosphere)"
   ]
  },
  {
   "cell_type": "code",
   "execution_count": 39,
   "id": "8bfabd1b",
   "metadata": {},
   "outputs": [
    {
     "name": "stdout",
     "output_type": "stream",
     "text": [
      "[[1.0], [1.0], [1.0], [1.0], [1.0], [1.0], [1.0], [1.0], [1.0], [1.0], [1.0], [-1.0], [1.0], [-1.0], [1.0], [1.0], [1.0], [-1.0], [1.0], [1.0], [1.0], [1.0], [-1.0], [1.0], [1.0], [-1.0], [1.0], [-1.0], [1.0], [1.0], [1.0], [1.0], [1.0], [-1.0], [1.0], [1.0], [1.0], [1.0], [1.0], [-1.0], [1.0], [-1.0], [1.0], [1.0], [1.0], [1.0], [1.0], [1.0], [1.0], [1.0], [1.0], [-1.0], [1.0], [1.0], [1.0], [-1.0], [1.0], [-1.0], [-1.0], [1.0], [1.0], [1.0], [1.0], [1.0], [-1.0], [-1.0], [1.0], [1.0], [1.0], [1.0], [1.0], [1.0], [1.0], [1.0], [1.0], [1.0], [1.0], [1.0], [1.0], [1.0], [1.0], [1.0], [1.0], [-1.0], [1.0], [1.0], [1.0], [1.0]]\n"
     ]
    }
   ],
   "source": [
    "sorted_label_list=[]\n",
    "k=1   #value of k\n",
    "for i in range(len(sorted_lbl_dist)):\n",
    "    srt_k=[]\n",
    "    for j in range(k):\n",
    "        srt_k.append(sorted_lbl_dist[i][0][j][0])\n",
    "    sorted_label_list.append(srt_k)\n",
    "print(sorted_label_list)"
   ]
  },
  {
   "cell_type": "markdown",
   "id": "b1480374",
   "metadata": {},
   "source": [
    "Comment: Converting y_test array in list for list functions"
   ]
  },
  {
   "cell_type": "code",
   "execution_count": 40,
   "id": "4ed34cc9",
   "metadata": {},
   "outputs": [
    {
     "name": "stdout",
     "output_type": "stream",
     "text": [
      "[1.0, -1.0, 1.0, 1.0, 1.0, 1.0, 1.0, -1.0, 1.0, 1.0, 1.0, -1.0, 1.0, -1.0, 1.0, 1.0, -1.0, -1.0, 1.0, 1.0, 1.0, -1.0, 1.0, -1.0, 1.0, -1.0, -1.0, -1.0, 1.0, 1.0, 1.0, 1.0, 1.0, -1.0, 1.0, 1.0, 1.0, 1.0, 1.0, -1.0, 1.0, -1.0, 1.0, 1.0, 1.0, 1.0, 1.0, 1.0, 1.0, -1.0, 1.0, -1.0, 1.0, -1.0, 1.0, -1.0, 1.0, -1.0, -1.0, 1.0, 1.0, -1.0, 1.0, -1.0, -1.0, -1.0, -1.0, 1.0, 1.0, 1.0, 1.0, 1.0, 1.0, 1.0, 1.0, 1.0, 1.0, 1.0, 1.0, 1.0, 1.0, 1.0, 1.0, -1.0, 1.0, -1.0, -1.0, 1.0]\n"
     ]
    }
   ],
   "source": [
    "ytest_list=[]\n",
    "for i in range(len(y_test)):\n",
    "    ytest_list.append(y_test[i])\n",
    "print(ytest_list)"
   ]
  },
  {
   "cell_type": "markdown",
   "id": "fb04d98b",
   "metadata": {},
   "source": [
    "Comment: Finding out unique labels in dataset"
   ]
  },
  {
   "cell_type": "code",
   "execution_count": 41,
   "id": "678ce249",
   "metadata": {},
   "outputs": [
    {
     "name": "stdout",
     "output_type": "stream",
     "text": [
      "[1.0, -1.0]\n"
     ]
    },
    {
     "data": {
      "text/plain": [
       "2"
      ]
     },
     "execution_count": 41,
     "metadata": {},
     "output_type": "execute_result"
    }
   ],
   "source": [
    "unique_label=[]\n",
    "for i in ytest_list:\n",
    "    if i not in unique_label:\n",
    "        unique_label.append(i)\n",
    "print(unique_label)\n",
    "len(unique_label)"
   ]
  },
  {
   "cell_type": "markdown",
   "id": "957bb367",
   "metadata": {},
   "source": [
    "Comment: Pridicting labels for perticular test sample"
   ]
  },
  {
   "cell_type": "code",
   "execution_count": 42,
   "id": "fa737b6a",
   "metadata": {},
   "outputs": [
    {
     "name": "stdout",
     "output_type": "stream",
     "text": [
      "[1.0, 1.0, 1.0, 1.0, 1.0, 1.0, 1.0, 1.0, 1.0, 1.0, 1.0, -1.0, 1.0, -1.0, 1.0, 1.0, 1.0, -1.0, 1.0, 1.0, 1.0, 1.0, -1.0, 1.0, 1.0, -1.0, 1.0, -1.0, 1.0, 1.0, 1.0, 1.0, 1.0, -1.0, 1.0, 1.0, 1.0, 1.0, 1.0, -1.0, 1.0, -1.0, 1.0, 1.0, 1.0, 1.0, 1.0, 1.0, 1.0, 1.0, 1.0, -1.0, 1.0, 1.0, 1.0, -1.0, 1.0, -1.0, -1.0, 1.0, 1.0, 1.0, 1.0, 1.0, -1.0, -1.0, 1.0, 1.0, 1.0, 1.0, 1.0, 1.0, 1.0, 1.0, 1.0, 1.0, 1.0, 1.0, 1.0, 1.0, 1.0, 1.0, 1.0, -1.0, 1.0, 1.0, 1.0, 1.0]\n"
     ]
    }
   ],
   "source": [
    "pridcted_labels=[]\n",
    "for m in range(len(sorted_label_list)):\n",
    "    cnt33=0\n",
    "    unique_value=0\n",
    "    cnt22=0\n",
    "    for j in range(len(unique_label)):\n",
    "        cnt=0\n",
    "        for i in range(len(sorted_label_list[0])):\n",
    "            if unique_label[j]==sorted_label_list[m][i]:\n",
    "                cnt+=1\n",
    "        if cnt>cnt22:\n",
    "            cnt22=cnt\n",
    "            uniqu_val=unique_label[j]\n",
    "    if cnt33<cnt22:\n",
    "        cnt33=cnt22\n",
    "        unique_value=uniqu_val\n",
    "    pridcted_labels.append(unique_value)\n",
    "print(pridcted_labels)  "
   ]
  },
  {
   "cell_type": "markdown",
   "id": "71a8cf3e",
   "metadata": {},
   "source": [
    "Comment: Comparing pridicted labels and actual labels and counting correctly pridicted labels using y_test labels"
   ]
  },
  {
   "cell_type": "code",
   "execution_count": 43,
   "id": "94dc6914",
   "metadata": {},
   "outputs": [
    {
     "name": "stdout",
     "output_type": "stream",
     "text": [
      "74\n"
     ]
    }
   ],
   "source": [
    "count=0\n",
    "for i in range(len(ytest_list)):\n",
    "    if ytest_list[i]==pridcted_labels[i]:\n",
    "        count+=1\n",
    "print(count)"
   ]
  },
  {
   "cell_type": "markdown",
   "id": "3807ff37",
   "metadata": {},
   "source": [
    "Comment: Finding the accuracy for k=1"
   ]
  },
  {
   "cell_type": "code",
   "execution_count": 44,
   "id": "be80f570",
   "metadata": {},
   "outputs": [
    {
     "name": "stdout",
     "output_type": "stream",
     "text": [
      "84.0909090909091\n"
     ]
    }
   ],
   "source": [
    "accuracy_k1=(count/len(ytest_list))*100\n",
    "print(accuracy_k1)"
   ]
  },
  {
   "cell_type": "markdown",
   "id": "2ce2e564",
   "metadata": {},
   "source": [
    "Comment: Finding the error rate for k=1"
   ]
  },
  {
   "cell_type": "code",
   "execution_count": 45,
   "id": "de401caf",
   "metadata": {},
   "outputs": [
    {
     "name": "stdout",
     "output_type": "stream",
     "text": [
      "15.909090909090907\n"
     ]
    }
   ],
   "source": [
    "error_k1=100-accuracy_k1\n",
    "print(error_k1)"
   ]
  },
  {
   "cell_type": "markdown",
   "id": "d3e5b8d1",
   "metadata": {},
   "source": [
    "# Comment: For k=3 nearest distance labels (ionosphere)"
   ]
  },
  {
   "cell_type": "code",
   "execution_count": 46,
   "id": "5f8d9619",
   "metadata": {},
   "outputs": [
    {
     "name": "stdout",
     "output_type": "stream",
     "text": [
      "[[1.0, 1.0, 1.0], [1.0, -1.0, -1.0], [1.0, 1.0, 1.0], [1.0, 1.0, 1.0], [1.0, 1.0, 1.0], [1.0, 1.0, 1.0], [1.0, 1.0, 1.0], [1.0, -1.0, -1.0], [1.0, 1.0, 1.0], [1.0, 1.0, 1.0], [1.0, 1.0, 1.0], [-1.0, 1.0, 1.0], [1.0, 1.0, 1.0], [-1.0, -1.0, -1.0], [1.0, 1.0, 1.0], [1.0, 1.0, 1.0], [1.0, 1.0, -1.0], [-1.0, -1.0, -1.0], [1.0, 1.0, 1.0], [1.0, 1.0, 1.0], [1.0, 1.0, 1.0], [1.0, 1.0, -1.0], [-1.0, -1.0, -1.0], [1.0, 1.0, 1.0], [1.0, 1.0, 1.0], [-1.0, -1.0, -1.0], [1.0, 1.0, 1.0], [-1.0, 1.0, 1.0], [1.0, 1.0, 1.0], [1.0, 1.0, 1.0], [1.0, 1.0, 1.0], [1.0, 1.0, 1.0], [1.0, 1.0, 1.0], [-1.0, 1.0, -1.0], [1.0, 1.0, 1.0], [1.0, 1.0, 1.0], [1.0, 1.0, 1.0], [1.0, 1.0, 1.0], [1.0, 1.0, 1.0], [-1.0, 1.0, 1.0], [1.0, 1.0, 1.0], [-1.0, -1.0, -1.0], [1.0, 1.0, 1.0], [1.0, 1.0, 1.0], [1.0, 1.0, 1.0], [1.0, 1.0, 1.0], [1.0, 1.0, 1.0], [1.0, 1.0, 1.0], [1.0, 1.0, 1.0], [1.0, 1.0, 1.0], [1.0, 1.0, 1.0], [-1.0, -1.0, -1.0], [1.0, 1.0, 1.0], [1.0, -1.0, 1.0], [1.0, 1.0, 1.0], [-1.0, -1.0, -1.0], [1.0, 1.0, 1.0], [-1.0, -1.0, -1.0], [-1.0, -1.0, -1.0], [1.0, 1.0, 1.0], [1.0, 1.0, 1.0], [1.0, -1.0, 1.0], [1.0, 1.0, 1.0], [1.0, 1.0, 1.0], [-1.0, -1.0, 1.0], [-1.0, 1.0, -1.0], [1.0, 1.0, 1.0], [1.0, 1.0, 1.0], [1.0, 1.0, 1.0], [1.0, 1.0, 1.0], [1.0, 1.0, 1.0], [1.0, 1.0, 1.0], [1.0, 1.0, 1.0], [1.0, 1.0, 1.0], [1.0, 1.0, 1.0], [1.0, 1.0, 1.0], [1.0, 1.0, 1.0], [1.0, 1.0, 1.0], [1.0, 1.0, 1.0], [1.0, 1.0, 1.0], [1.0, 1.0, 1.0], [1.0, 1.0, 1.0], [1.0, 1.0, 1.0], [-1.0, 1.0, 1.0], [1.0, 1.0, 1.0], [1.0, -1.0, -1.0], [1.0, -1.0, 1.0], [1.0, 1.0, 1.0]]\n"
     ]
    }
   ],
   "source": [
    "sorted_label_list=[]\n",
    "k=3   #value of k\n",
    "for i in range(len(sorted_lbl_dist)):\n",
    "    srt_k=[]\n",
    "    for j in range(k):\n",
    "        srt_k.append(sorted_lbl_dist[i][0][j][0])\n",
    "    sorted_label_list.append(srt_k)\n",
    "print(sorted_label_list)"
   ]
  },
  {
   "cell_type": "markdown",
   "id": "85b0a575",
   "metadata": {},
   "source": [
    "Comment: Finding the accuracy for k=3"
   ]
  },
  {
   "cell_type": "code",
   "execution_count": 49,
   "id": "15283580",
   "metadata": {},
   "outputs": [
    {
     "name": "stdout",
     "output_type": "stream",
     "text": [
      "82.95454545454545\n"
     ]
    }
   ],
   "source": [
    "accuracy_k3=(count/len(ytest_list))*100\n",
    "print(accuracy_k3)"
   ]
  },
  {
   "cell_type": "markdown",
   "id": "7c4ec84e",
   "metadata": {},
   "source": [
    "Comment: Finding the error rate for k=3"
   ]
  },
  {
   "cell_type": "code",
   "execution_count": 50,
   "id": "6e313707",
   "metadata": {},
   "outputs": [
    {
     "name": "stdout",
     "output_type": "stream",
     "text": [
      "17.045454545454547\n"
     ]
    }
   ],
   "source": [
    "error_k3=100-accuracy_k3\n",
    "print(error_k3)"
   ]
  },
  {
   "cell_type": "markdown",
   "id": "f1babb9f",
   "metadata": {},
   "source": [
    "# Comment: For k=5 nearest distance labels (ionosphere) GENERAL K\n"
   ]
  },
  {
   "cell_type": "code",
   "execution_count": 51,
   "id": "ac52f77c",
   "metadata": {},
   "outputs": [
    {
     "name": "stdout",
     "output_type": "stream",
     "text": [
      "[[1.0, 1.0, 1.0, 1.0, 1.0], [1.0, -1.0, -1.0, 1.0, -1.0], [1.0, 1.0, 1.0, 1.0, 1.0], [1.0, 1.0, 1.0, 1.0, -1.0], [1.0, 1.0, 1.0, 1.0, 1.0], [1.0, 1.0, 1.0, 1.0, 1.0], [1.0, 1.0, 1.0, 1.0, 1.0], [1.0, -1.0, -1.0, 1.0, 1.0], [1.0, 1.0, 1.0, 1.0, 1.0], [1.0, 1.0, 1.0, 1.0, 1.0], [1.0, 1.0, 1.0, 1.0, 1.0], [-1.0, 1.0, 1.0, 1.0, 1.0], [1.0, 1.0, 1.0, 1.0, 1.0], [-1.0, -1.0, -1.0, -1.0, 1.0], [1.0, 1.0, 1.0, 1.0, 1.0], [1.0, 1.0, 1.0, 1.0, 1.0], [1.0, 1.0, -1.0, -1.0, -1.0], [-1.0, -1.0, -1.0, -1.0, -1.0], [1.0, 1.0, 1.0, 1.0, 1.0], [1.0, 1.0, 1.0, 1.0, 1.0], [1.0, 1.0, 1.0, 1.0, 1.0], [1.0, 1.0, -1.0, -1.0, 1.0], [-1.0, -1.0, -1.0, -1.0, -1.0], [1.0, 1.0, 1.0, 1.0, 1.0], [1.0, 1.0, 1.0, 1.0, 1.0], [-1.0, -1.0, -1.0, -1.0, 1.0], [1.0, 1.0, 1.0, 1.0, 1.0], [-1.0, 1.0, 1.0, 1.0, 1.0], [1.0, 1.0, 1.0, 1.0, 1.0], [1.0, 1.0, 1.0, 1.0, 1.0], [1.0, 1.0, 1.0, 1.0, 1.0], [1.0, 1.0, 1.0, 1.0, 1.0], [1.0, 1.0, 1.0, 1.0, 1.0], [-1.0, 1.0, -1.0, -1.0, -1.0], [1.0, 1.0, 1.0, 1.0, 1.0], [1.0, 1.0, 1.0, 1.0, 1.0], [1.0, 1.0, 1.0, 1.0, 1.0], [1.0, 1.0, 1.0, 1.0, 1.0], [1.0, 1.0, 1.0, 1.0, 1.0], [-1.0, 1.0, 1.0, 1.0, -1.0], [1.0, 1.0, 1.0, 1.0, 1.0], [-1.0, -1.0, -1.0, 1.0, -1.0], [1.0, 1.0, 1.0, 1.0, 1.0], [1.0, 1.0, 1.0, 1.0, 1.0], [1.0, 1.0, 1.0, 1.0, 1.0], [1.0, 1.0, 1.0, 1.0, 1.0], [1.0, 1.0, 1.0, 1.0, 1.0], [1.0, 1.0, 1.0, 1.0, 1.0], [1.0, 1.0, 1.0, 1.0, 1.0], [1.0, 1.0, 1.0, -1.0, 1.0], [1.0, 1.0, 1.0, 1.0, 1.0], [-1.0, -1.0, -1.0, -1.0, -1.0], [1.0, 1.0, 1.0, 1.0, 1.0], [1.0, -1.0, 1.0, 1.0, 1.0], [1.0, 1.0, 1.0, -1.0, 1.0], [-1.0, -1.0, -1.0, -1.0, -1.0], [1.0, 1.0, 1.0, 1.0, 1.0], [-1.0, -1.0, -1.0, -1.0, -1.0], [-1.0, -1.0, -1.0, -1.0, -1.0], [1.0, 1.0, 1.0, 1.0, 1.0], [1.0, 1.0, 1.0, 1.0, 1.0], [1.0, -1.0, 1.0, 1.0, 1.0], [1.0, 1.0, 1.0, 1.0, 1.0], [1.0, 1.0, 1.0, -1.0, -1.0], [-1.0, -1.0, 1.0, -1.0, 1.0], [-1.0, 1.0, -1.0, -1.0, -1.0], [1.0, 1.0, 1.0, 1.0, -1.0], [1.0, 1.0, 1.0, 1.0, 1.0], [1.0, 1.0, 1.0, 1.0, 1.0], [1.0, 1.0, 1.0, 1.0, 1.0], [1.0, 1.0, 1.0, 1.0, 1.0], [1.0, 1.0, 1.0, 1.0, 1.0], [1.0, 1.0, 1.0, 1.0, -1.0], [1.0, 1.0, 1.0, 1.0, 1.0], [1.0, 1.0, 1.0, 1.0, 1.0], [1.0, 1.0, 1.0, 1.0, 1.0], [1.0, 1.0, 1.0, 1.0, 1.0], [1.0, 1.0, 1.0, 1.0, 1.0], [1.0, 1.0, 1.0, 1.0, 1.0], [1.0, 1.0, 1.0, 1.0, 1.0], [1.0, 1.0, 1.0, 1.0, 1.0], [1.0, 1.0, 1.0, 1.0, 1.0], [1.0, 1.0, 1.0, 1.0, 1.0], [-1.0, 1.0, 1.0, -1.0, 1.0], [1.0, 1.0, 1.0, 1.0, 1.0], [1.0, -1.0, -1.0, -1.0, -1.0], [1.0, -1.0, 1.0, -1.0, -1.0], [1.0, 1.0, 1.0, 1.0, 1.0]]\n"
     ]
    }
   ],
   "source": [
    "sorted_label_list=[]\n",
    "k=5   #value of k\n",
    "for i in range(len(sorted_lbl_dist)):\n",
    "    srt_k=[]\n",
    "    for j in range(k):\n",
    "        srt_k.append(sorted_lbl_dist[i][0][j][0])\n",
    "    sorted_label_list.append(srt_k)\n",
    "print(sorted_label_list)"
   ]
  },
  {
   "cell_type": "markdown",
   "id": "fff3e765",
   "metadata": {},
   "source": [
    "Comment: Finding the accuracy for k=5"
   ]
  },
  {
   "cell_type": "code",
   "execution_count": 54,
   "id": "645ea3db",
   "metadata": {},
   "outputs": [
    {
     "name": "stdout",
     "output_type": "stream",
     "text": [
      "84.0909090909091\n"
     ]
    }
   ],
   "source": [
    "accuracy_k5=(count/len(ytest_list))*100\n",
    "print(accuracy_k5)"
   ]
  },
  {
   "cell_type": "markdown",
   "id": "e33c4c1a",
   "metadata": {},
   "source": [
    "Comment: Finding the error rate for k=5"
   ]
  },
  {
   "cell_type": "code",
   "execution_count": 55,
   "id": "da6e72ff",
   "metadata": {},
   "outputs": [
    {
     "name": "stdout",
     "output_type": "stream",
     "text": [
      "15.909090909090907\n"
     ]
    }
   ],
   "source": [
    "error_k5=100-accuracy_k5\n",
    "print(error_k5)"
   ]
  },
  {
   "cell_type": "code",
   "execution_count": null,
   "id": "1842c04d",
   "metadata": {},
   "outputs": [],
   "source": []
  }
 ],
 "metadata": {
  "kernelspec": {
   "display_name": "Python 3 (ipykernel)",
   "language": "python",
   "name": "python3"
  },
  "language_info": {
   "codemirror_mode": {
    "name": "ipython",
    "version": 3
   },
   "file_extension": ".py",
   "mimetype": "text/x-python",
   "name": "python",
   "nbconvert_exporter": "python",
   "pygments_lexer": "ipython3",
   "version": "3.9.12"
  }
 },
 "nbformat": 4,
 "nbformat_minor": 5
}
